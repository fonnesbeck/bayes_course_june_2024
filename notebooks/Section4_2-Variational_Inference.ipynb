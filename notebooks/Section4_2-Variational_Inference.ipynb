{
 "cells": [
  {
   "attachments": {},
   "cell_type": "markdown",
   "metadata": {},
   "source": [
    "[![Open In Colab](https://colab.research.google.com/assets/colab-badge.svg)](https://colab.research.google.com/github/fonnesbeck/bayes_course_dec_2023/blob/master/notebooks/Section3_3-Variational_Inference.ipynb)\n",
    "\n",
    "# Introduction to Variational Bayesian Methods\n"
   ]
  },
  {
   "attachments": {},
   "cell_type": "markdown",
   "metadata": {},
   "source": [
    "In Bayesian analysis, the most common strategy for computing posterior quantities is through Markov Chain Monte Carlo (MCMC). Despite recent advances in efficient sampling, MCMC methods still remain computationally intensive for more than a few thousand observations. A more scalable alternative to sampling is Variational Inference (VI), which re-frames the problem of computing the posterior distribution as a minimization of the Kullback-Leibler divergence between the true posterior and a member of some approximating family. \n",
    "\n",
    "In this lecture, we provide a basic overview of the VI framework as well as practical examples of its implementation using the Automatic Differentiation Variational Inference (ADVI) engine in PyMC."
   ]
  },
  {
   "attachments": {},
   "cell_type": "markdown",
   "metadata": {},
   "source": [
    "There are a couple of alternatives to evaluating complex posterior distributions without using an MCMC algorithm:\n",
    "\n",
    "1. Divide and Conquer approaches: See [this paper](https://arxiv.org/abs/1311.4780) or [this paper](https://arxiv.org/abs/1508.05880) for more details\n",
    "\n",
    "2. One alternative approach is to build an approximation to the posterior $p(\\theta|X)$ using some other distribution $q(\\theta)$\n",
    "\n",
    "Let's focus on the latter option, and try to use a simple distribution to approximate a complex one."
   ]
  },
  {
   "attachments": {},
   "cell_type": "markdown",
   "metadata": {},
   "source": [
    "## Distributional Approximations\n",
    "\n",
    "One approach is to use a distributional approximation, such as the Laplace (normal) approximation. In that scenario, we construct a Taylor series of the posterior and threw away the terms of higher than quadratic order. \n",
    "\n",
    "Variational inference is another distribitional approximation method. Here, rather than a Taylor series approximation, we choose some class of approximating distributions, and choose the member of that class which is **closest to the posterior**.\n",
    "\n",
    "Thus, we shift from a stochastic sampling approach to approximation to a deterministic approximation that places bounds on the density of interest, then uses opimization to choose from that bounded set."
   ]
  },
  {
   "attachments": {},
   "cell_type": "markdown",
   "metadata": {},
   "source": [
    "## Example: Approximating a Student's t with a gaussian \n",
    "Let's approximate a Students-t distribution with $\\nu =3$  with a Gaussian distribution of some mean and variance.\n",
    "\n",
    "One naive approach would be to build a set of test points and minimize the MSE between the $\\log p(z)$ and $\\log q(z)$. \n",
    "\n",
    "$$\n",
    "{\\hat \\phi} = \\underset{\\phi}{{\\rm arg\\,min}} \\frac{\\sum_{i} q(\\theta_{i};\\phi)\\left[\\log q(\\theta_{i};\\phi) - \\log p(\\theta_{i})\\right]^{2}}{\\sum_{i} q(\\theta_{i};\\phi)}\n",
    "$$"
   ]
  },
  {
   "cell_type": "code",
   "execution_count": null,
   "metadata": {},
   "outputs": [],
   "source": [
    "%matplotlib inline \n",
    "import matplotlib.pyplot as plt\n",
    "import seaborn as sns\n",
    "import numpy as np\n",
    "import scipy as sp\n",
    "\n",
    "sns.set(style='ticks')"
   ]
  },
  {
   "cell_type": "code",
   "execution_count": null,
   "metadata": {},
   "outputs": [],
   "source": [
    "nu = 3\n",
    "logp = sp.stats.t(nu).logpdf"
   ]
  },
  {
   "cell_type": "code",
   "execution_count": null,
   "metadata": {},
   "outputs": [],
   "source": [
    "z = np.linspace(-5.0, 5.0, 1000)\n",
    "plt.plot(z, np.exp(logp(z)), label='p(z)');"
   ]
  },
  {
   "attachments": {},
   "cell_type": "markdown",
   "metadata": {},
   "source": [
    "### Implementing the approximation"
   ]
  },
  {
   "attachments": {},
   "cell_type": "markdown",
   "metadata": {},
   "source": [
    "Let's weight points that have more probability in the approximation $q(z)$, the idea being that points near the bulk of  $q(\\theta)$ are more important to get right. OK. \n",
    "\n",
    "How do we pick $\\theta_i$? Well, let's use the known distribution of  $q(\\theta;\\phi)$  at each step of the optimization to select a grid of points which sample the regions of highest probability density. Then we will optimize the objective function that we defined in terms of MSE. "
   ]
  },
  {
   "cell_type": "code",
   "execution_count": null,
   "metadata": {},
   "outputs": [],
   "source": [
    "def logq(theta, mu, lnsigma):\n",
    "    # log-Gaussian parameterized by mean and log(sigma)\n",
    "    sigma = np.exp(lnsigma)\n",
    "    return sp.stats.norm(mu, sigma).logpdf(theta)"
   ]
  },
  {
   "attachments": {},
   "cell_type": "markdown",
   "metadata": {},
   "source": [
    "Now we can specify an objective function, and fit the normal distribition using `scipy.optimize`"
   ]
  },
  {
   "cell_type": "code",
   "execution_count": null,
   "metadata": {},
   "outputs": [],
   "source": [
    "def regression_vi(logp, n, mu_start, lnsigma_start, atol=1e-6):\n",
    "    \"\"\"use an optimizer for simple 1D VI\"\"\"\n",
    "    phi_start = np.array([mu_start, lnsigma_start])\n",
    "    \n",
    "    # Objective function. Computes sum above on a grid.\n",
    "    def obj(phi):\n",
    "        _sigma = np.exp(phi[1])  # get sigma\n",
    "        \n",
    "        # This is the grid, factor of 10 is a random choice.\n",
    "        z = np.linspace(phi[0] - 10.0*_sigma , phi[0] + 10.0*_sigma, n)\n",
    "\n",
    "        # Build weights and differences.\n",
    "        logqz = logq(z, phi[0], phi[1])\n",
    "        w = np.exp(logqz)\n",
    "        diff = logqz - logp(z)\n",
    "        return np.sum(diff * diff * w) / np.sum(w)\n",
    "\n",
    "    # Run the optimizer.\n",
    "    opts = {'disp': True, 'maxiter': 5000, 'maxfev': 5000,\n",
    "            'fatol': atol, 'xatol': 1e-8}\n",
    "    phi_hat = sp.optimize.minimize(obj, phi_start,\n",
    "                                      method='Nelder-Mead',\n",
    "                                      options=opts)\n",
    "    print(phi_hat)\n",
    "    return phi_hat['x'], phi_hat\n",
    "\n",
    "phi_hat, res = regression_vi(logp, 100, 100.0, -100.0)"
   ]
  },
  {
   "cell_type": "code",
   "execution_count": null,
   "metadata": {},
   "outputs": [],
   "source": [
    "theta = np.linspace(-5.0, 5.0, 1000)\n",
    "ptheta = np.exp(logp(theta))\n",
    "qtheta = np.exp(logq(theta, phi_hat[0], phi_hat[1]))\n",
    "\n",
    "plt.plot(theta, ptheta, label='p(theta)')\n",
    "plt.plot(theta, qtheta, label='q(theta)')\n",
    "plt.xlabel('theta')\n",
    "plt.ylabel('PDF')\n",
    "plt.legend();"
   ]
  },
  {
   "attachments": {},
   "cell_type": "markdown",
   "metadata": {},
   "source": [
    "As noted in the model comparison section, MSE is not an effective criterion for comparing two arbitrary distributions (its only optimal when the approximation error is normally distributed). Instead, we can adopt a more robust information-theoretic measure, such as the **Kullback-Leibler divergence**, which estimates the information distance between two densities.\n",
    "\n",
    "Hence we look to minimize the KL divergence between the approximating distribution and the truth:\n",
    "\n",
    "$$\n",
    "\\begin{align*}\n",
    "D_{\\rm KL}\\big(Q||P\\big) &=& \\int q(\\theta) \\log\\frac{q(\\theta)}{p(\\theta)}d\\theta\\\\\n",
    "&=& \\int q(\\theta)\\log q(\\theta)d\\theta - \\int q(\\theta)\\log p(\\theta)d\\theta\n",
    "\\end{align*}\n",
    "$$"
   ]
  },
  {
   "cell_type": "code",
   "execution_count": null,
   "metadata": {},
   "outputs": [],
   "source": [
    "def kl_vi(logp, n, mu_start, lnsigma_start):\n",
    "    \"\"\"vi with KL divergence\"\"\"\n",
    "    phi_start = np.array([mu_start, lnsigma_start])\n",
    "    \n",
    "    # Objective function. Computes the KL div of q and p.\n",
    "    def obj(phi):\n",
    "        # This term is -\\int q*log(q).\n",
    "        # Also known as the differential entropy.\n",
    "        # For a Gaussian, it can be computed exactly. \n",
    "        # See wikipedia or something.\n",
    "        entropy = phi[1] + 0.5*np.log(2.0 * np.pi) + 0.5 ## \n",
    "        \n",
    "        # now we need to evaluate the second integral in the KL divergence, let's numerically approximate it with a sum\n",
    "        # This is the grid, factor of 20 is a random choice.\n",
    "        _sigma = np.exp(phi[1])  # get sigma        \n",
    "        θ = np.linspace(phi[0] - 20.0*_sigma , phi[0] + 20.0*_sigma, n) #number of grid points \n",
    "        dθ = θ[1] - θ[0]  # factor needed for numerical integral\n",
    "        \n",
    "        # This term is \\int q*log(p)\n",
    "        logqθ = logq(θ, phi[0], phi[1]) #just evaluate the variational density at each z on the grid and \n",
    "                                        # at the current value of phi\n",
    "        qθ = np.exp(logqθ) # back transform\n",
    "        return -entropy - np.sum(qθ * logp(θ) * dθ) #KL divergence for this phi\n",
    "    \n",
    "    # Pass this objective function to a scipy optimizer\n",
    "    phi_hat = sp.optimize.minimize(obj, phi_start,\n",
    "                                      method='Nelder-Mead',\n",
    "                                      options={'disp': True})\n",
    "    print(phi_hat)\n",
    "    return phi_hat['x'], phi_hat\n",
    "\n",
    "phi_hat, res = kl_vi(logp, 10000, 1.0, 0.0)"
   ]
  },
  {
   "cell_type": "code",
   "execution_count": null,
   "metadata": {},
   "outputs": [],
   "source": [
    "theta = np.linspace(-5.0, 5.0, 1000)\n",
    "ptheta = np.exp(logp(theta))\n",
    "qtheta = np.exp(logq(theta, phi_hat[0], phi_hat[1]))\n",
    "\n",
    "plt.plot(theta, ptheta, label='p(theta)')\n",
    "plt.plot(theta, qtheta, label='q(theta)')\n",
    "plt.xlabel('theta')\n",
    "plt.ylabel('PDF')\n",
    "plt.legend();"
   ]
  },
  {
   "attachments": {},
   "cell_type": "markdown",
   "metadata": {},
   "source": [
    "## Let's look at a more difficult pdf to approximate:\n",
    "$$\n",
    " \\log p(\\theta) = 10^{3}\\log \\theta + \\log(1-\\theta) - c\n",
    "$$\n",
    "\n",
    "where the constant $c \\sim Beta(10^3+1, 2)$."
   ]
  },
  {
   "attachments": {},
   "cell_type": "markdown",
   "metadata": {},
   "source": [
    "A naive approach here would be to fit a rescaled Gaussian to match the support of $\\theta$"
   ]
  },
  {
   "cell_type": "code",
   "execution_count": null,
   "metadata": {},
   "outputs": [],
   "source": [
    "def logq_unit(theta, mu, lnsigma):\n",
    "    \"\"\"log of Gaussian parameterized by mean and log(sigma)\n",
    "    has unit integral over 0,1 \n",
    "    and value zero outside of 0,1\n",
    "    \"\"\"\n",
    "    val = np.zeros_like(theta)\n",
    "    msk = (theta >= 1.0) | (theta <= 0.0)\n",
    "    val[msk] = -np.inf\n",
    "    if np.any(~msk):\n",
    "        sigma = np.exp(lnsigma)\n",
    "        a, b = (0.0 - mu) / sigma, (1.0 - mu) / sigma\n",
    "        val[~msk] = sp.stats.truncnorm.logpdf(theta[~msk], a=a, b=b, loc=mu, scale=sigma)\n",
    "    \n",
    "    return val\n",
    "\n",
    "def logp_hard(theta, a=1e3, b=1):\n",
    "    val = np.zeros_like(theta)\n",
    "    msk = (theta >= 1.0) | (theta <= 0.0)\n",
    "    val[msk] = -np.inf\n",
    "    if np.any(~msk):\n",
    "        val[~msk] = a * np.log(theta) + b * np.log(1.0 - theta) - sp.special.betaln(a + 1.0, b + 1.0)\n",
    "    return val\n",
    "\n",
    "def kl_vi_unit(logp, n, mu_start, lnsigma_start, eps=1e-8):\n",
    "    \"\"\"vi with KL divergence over unit integral\"\"\"\n",
    "    phi_start = np.array([mu_start, lnsigma_start])\n",
    "    \n",
    "    # Objective function. Computes the KL div of q and p.\n",
    "    def obj(phi):\n",
    "        # This term is -\\int q*log(q).\n",
    "        sigma = np.exp(phi[1])\n",
    "        a, b = (0.0 - phi[0]) / sigma, (1.0 - phi[0]) / sigma\n",
    "        entropy = sp.stats.truncnorm.entropy(a=a, b=b, loc=phi[0], scale=sigma)\n",
    "\n",
    "        # This is the grid, factor of 20 is a random choice.\n",
    "        _sigma = np.exp(phi[1])  # get sigma        \n",
    "        theta = np.linspace(eps, 1.0 - eps, n)\n",
    "        dtheta= theta[1] - theta[0]  # factor needed for numerical integral\n",
    "        \n",
    "        # This term is \\int q*log(p)\n",
    "        logqtheta = logq_unit(theta, phi[0], phi[1])\n",
    "        qtheta = np.exp(logqtheta)\n",
    "\n",
    "        return -entropy - np.sum(qtheta * logp(theta) * dtheta)\n",
    "\n",
    "    # Run the optimizer.\n",
    "    phi_hat = sp.optimize.minimize(obj, phi_start,\n",
    "                                      method='Nelder-Mead',\n",
    "                                      options={'disp': True, 'maxfev': 10000})\n",
    "    print(phi_hat)\n",
    "    return phi_hat['x'], phi_hat\n",
    "\n",
    "phi_hat, res = kl_vi_unit(logp_hard, 10000, 0.0, 0.0)"
   ]
  },
  {
   "cell_type": "code",
   "execution_count": null,
   "metadata": {},
   "outputs": [],
   "source": [
    "theta = np.linspace(0.5, 0.999999, 100000)\n",
    "ptheta = np.exp(logp_hard(theta))\n",
    "qtheta = np.exp(logq_unit(theta, phi_hat[0], phi_hat[1]))\n",
    "dtheta_dlogittheta = theta * (1.0 - theta)\n",
    "\n",
    "plt.plot(sp.special.logit(theta), ptheta * dtheta_dlogittheta, label='p(logit(theta))')\n",
    "plt.plot(sp.special.logit(theta), qtheta * dtheta_dlogittheta, label='q(logit(theta))')\n",
    "plt.xlabel('logit(theta)')\n",
    "plt.ylabel('PDF')\n",
    "plt.legend();"
   ]
  },
  {
   "attachments": {},
   "cell_type": "markdown",
   "metadata": {},
   "source": [
    "This looks a little weird and rescaling a gaussian to squeeze into the support of $\\theta$ is not really a good solution if your parameters all have different supports.\n",
    "\n",
    "Instead, let's do the reverse and transform the parameter space to that of a gaussian.\n",
    "A transformation $T$ that maps $[0,1] \\to R$ is the logit function. \n",
    "$$\n",
    "T(\\theta)=\\zeta = {\\rm logit}(\\theta) = \\log\\left(\\frac{\\theta}{1-\\theta}\\right)\\\\\n",
    "{\\rm logit}^{-1}(\\zeta) = {\\rm sigmoid}(\\zeta) = \\frac{1}{1 + \\exp\\left(-\\zeta\\right)}\\\\\n",
    "\\frac{d{\\rm sigmoid}(\\zeta)}{d\\zeta} = {\\rm sigmoid}(\\zeta) \\left[1 - {\\rm sigmoid}(\\zeta)\\right]\\\\\n",
    "$$\n",
    "and then our pdf in terms of the transformed parameter is given by\n",
    "$$\n",
    "\\begin{align}\n",
    " \\log p_{\\zeta}(\\zeta) &=& \\log p({\\rm sigmoid}(\\zeta)) + \\log\\left|\\frac{d{\\rm sigmoid}(\\zeta)}{d\\zeta}\\right|\\\\\n",
    "&=& \\log p({\\rm sigmoid}(\\zeta)) + \\log {\\rm sigmoid}(\\zeta) + \\log(1-{\\rm sigmoid}(\\zeta))\\ .\n",
    "\\end{align}\n",
    "$$"
   ]
  },
  {
   "cell_type": "code",
   "execution_count": null,
   "metadata": {},
   "outputs": [],
   "source": [
    "def logp_easy(logitθ, a=1e3, b=1):\n",
    "    logabsjac = -1.0 * (np.log(1.0 + np.exp(-logitθ)) + np.log(1.0 + np.exp(logitθ)))\n",
    "    return (-a * np.log(1.0 + np.exp(-logitθ)) - b * np.log(1.0 + np.exp(logitθ)) + \n",
    "            logabsjac - \n",
    "            sp.special.betaln(a + 1.0, b + 1.0))\n",
    "\n",
    "phi_hat, res = kl_vi(logp_easy, 10000, 1.0, 0.0)"
   ]
  },
  {
   "cell_type": "code",
   "execution_count": null,
   "metadata": {},
   "outputs": [],
   "source": [
    "logit_theta = np.linspace(0.0, 14.0, 100000)\n",
    "plogit_theta = np.exp(logp_easy(logit_theta))\n",
    "qlogit_theta = np.exp(logq(logit_theta, phi_hat[0], phi_hat[1]))\n",
    "\n",
    "plt.plot(logit_theta, plogit_theta, label='p(logit(theta))')\n",
    "plt.plot(logit_theta, qlogit_theta, label='q(logit(theta))')\n",
    "plt.xlabel('logit(z)')\n",
    "plt.ylabel('PDF')\n",
    "plt.legend();"
   ]
  },
  {
   "attachments": {},
   "cell_type": "markdown",
   "metadata": {},
   "source": [
    "Clearly re-casting $\\theta$ to have the same support as a Gaussian makes for nice and easy minimization and fits much better than the other way around. \n",
    "\n",
    "We will use this as a general strategy for automating variational inference.\n"
   ]
  },
  {
   "attachments": {},
   "cell_type": "markdown",
   "metadata": {},
   "source": [
    "## Approximating an unknown posterior distribution\n",
    "\n",
    "Let's revisit the KL divergence and see what is available to us:\n",
    "\n",
    "\\begin{equation}\n",
    "\\phi^*=\\arg\\min_{\\phi\\in\\Phi}D_{\\rm KL}(q(\\theta; \\phi) || p(\\theta|X))\n",
    "\\end{equation}\n",
    "\n",
    "\n",
    "The KL divergence is given by\n",
    "\n",
    "\\begin{align}\n",
    "D_{\\rm KL}\\big(Q||P\\big)&=& \\int q(\\theta) \\log\\frac{q(\\theta)}{p(\\theta|x)}d\\theta\\\\\n",
    "&=& E_q\\left[\\log\\frac{q(\\theta)}{p(\\theta|x)}\\right]\\\\\n",
    "&=&E_q[\\log q(\\theta)]-E_q[\\log p(\\theta|x)]\\\\\n",
    "&=&-E_q[\\log p(\\theta,x)]+E_q[\\log q(\\theta)]+\\log p(x)\\\\\n",
    "&=& -ELBO +\\log p(x)\n",
    "\\end{align}\n",
    "\n",
    "Notice that the KL divergence is given by the sum of the ELBO and Model Evidence. To see why, let's revisit the model evidence. \n",
    "\n",
    "\\begin{align*}\n",
    "\\log p(x)&=&\\log\\int p(x,\\theta)d\\theta\\\\\n",
    "&=&\\log\\int p(x,\\theta)\\frac{q(\\theta)}{q(\\theta)}d\\theta\\\\\n",
    "&=&\\log(E_{q}\\left[\\frac{p(x,\\theta)}{q(\\theta)}\\right])\\\\\n",
    "&\\geq& E_q[\\log p(x,\\theta)]-E_q[\\log q(\\theta)].\n",
    "\\end{align*}\n",
    "\n",
    "This is due to the fact that logarithms are strictly concave, allowing us to invoke [**Jensen's inequality**](http://mathworld.wolfram.com/JensensInequality.html):\n",
    "\n",
    "> Let $f$ be a convex function (*i.e.* $f^{\\prime\\prime} \\ge 0$) of a random variable X. Then:\n",
    "> $f(E[X]) \\ge E[f(X)]$\n",
    ">\n",
    "> And when $f$ is *strictly* convex, then:\n",
    "> $$E[f(X)] = f(E[X]) \\iff X = E[X]$$\n",
    "> with probability 1.\n",
    "\n",
    "What this implies for a computational solution is that minimizing the KL divergence is accomplished by maximizing the evidence lower bound.\n"
   ]
  },
  {
   "attachments": {},
   "cell_type": "markdown",
   "metadata": {},
   "source": [
    "\n",
    "## [Automatic Differentiation Variational Inference](https://arxiv.org/abs/1603.00788): A Tale of Two Transformations\n",
    "With ease of computation in mind, Kucukelbir et. al. 2015 developed a way to perform VI automatically. Without going into too much detail (see reference for details), the authors proposed transforming the problem in a series of steps:\n",
    "\n",
    "1. Specify the joint model, $p(x,\\theta)$\n",
    "2. Transform model into surrogate containing unconstrained real-valued latent variables, $\\zeta$. $p(x,\\theta) \\to p(x,\\zeta)$\n",
    "    - Variational inference is then performed on the transformed model. New objective: \n",
    "    \n",
    "$$\n",
    "\\begin{equation}\n",
    "\\phi^*=\\arg\\min_{\\phi\\in\\Phi} KL(q(\\zeta; \\phi)||p(\\zeta|x))\n",
    "\\end{equation}\n",
    "$$\n",
    "\n",
    "all latent variables are defined on the same space. ADVI can now use a single variational family for all models\n",
    " \n",
    "3. ADVI recasts the gradient of the variational objective function as an expectation over $q$. This allows for the use of Monte Carlo integration to perform the optimization\n",
    "4. Next, the framework transforms the problem again and re-casts the gradient in terms of a standard Gaussian distribution. This makes MC integration very efficient since sampling is done from $N(0,1)$\n",
    "5. Compute noisy gradients to optimize the objective. \n"
   ]
  },
  {
   "attachments": {},
   "cell_type": "markdown",
   "metadata": {},
   "source": [
    "## Let's get a little bit of a feel for how this happens "
   ]
  },
  {
   "attachments": {},
   "cell_type": "markdown",
   "metadata": {},
   "source": [
    "Remember, we're first going to transform all of our parameters to have the same support in $R^k$. We next need to optimize the KL divergence on the transformed space (like in the sigmoid transformation above). \n",
    "\n",
    "To accomplish this, we need to optimize the ELBO for the transformed objective. Our objective function for the transformed variables is now given by the ELBO of the transformation:\n",
    "\n",
    "$$\n",
    "ELBO(\\phi) = E_{q(\\zeta;\\phi)}\\left[\\log p(x,T^{-1}(\\zeta))+\\log|\\det J_{T^{-1}}(\\zeta)|\\right] - E_q[\\log q(\\zeta;\\phi)]\n",
    "$$\n",
    "\n",
    "\n"
   ]
  },
  {
   "attachments": {},
   "cell_type": "markdown",
   "metadata": {},
   "source": [
    "This notation is starting to get a litle hairy, so let's return to basics. Remember, the first expectation is just an expectation over a joint likelihood in terms of the approximating variational distribution.  \n",
    "\n",
    "$$\n",
    "\\int q(z)\\log p(x,T^{-1}(\\zeta))|\\det J_{T^{-1}}(\\zeta)| dz \\approx \\frac{1}{n}\\sum_i \\log p(x|\\zeta_{i})p(\\zeta_{i})\n",
    "$$\n",
    "\n",
    "Problem is, we can't differentiate this MC integration with respect to the variational parameters (since they parameterize the distribution from which we draw $\\zeta_i$). So we need to transform one more time so that the expectation is in terms of a standard normal (this is called elliptic standardization), and them perform MC integration with a draw from a standard normal. \n",
    "\n",
    "$$\\begin{align}\n",
    "\\int q(\\zeta) \\log p(x|\\zeta)p(\\zeta) d\\zeta &= \\int N(\\zeta) \\log p(x|\\zeta\\sigma+\\mu)p(\\zeta\\sigma+\\mu) dz \\\\\n",
    "&\\approx \\frac{1}{n}\\sum_i \\log p(x|\\zeta_{i}\\sigma+\\mu)p(\\zeta_{i}\\sigma+\\mu)\\ .\n",
    "\\end{align}$$\n",
    "\n",
    "Now, since this integral is explicitly in terms of the variational parameters, we can optimize our objective. "
   ]
  },
  {
   "attachments": {},
   "cell_type": "markdown",
   "metadata": {},
   "source": [
    "![](images/advi.png)"
   ]
  },
  {
   "attachments": {},
   "cell_type": "markdown",
   "metadata": {},
   "source": [
    "> Above is something we can take derivatives of using a computational backend. We'll use PyMC in a moment. But let's return to our weird pdf.\n",
    "\n",
    "We can now implement a really crude version of advi on our weird pdf:"
   ]
  },
  {
   "cell_type": "code",
   "execution_count": null,
   "metadata": {},
   "outputs": [],
   "source": [
    "def dlogp_easy_dzeta(zeta):\n",
    "    theta = sp.special.expit(zeta)\n",
    "    return (1e3 + 1.0) * (1.0 - theta) - 2 * theta\n",
    "\n",
    "def kl_vi_with_sgd(dlogp, mu, lnsigma, rng, n_iter=100000, n_draw=1, eta=5e-4, eta_decay=5e-5):\n",
    "    for i in range(n_iter):\n",
    "        # Draw the points and convert back to draws from the variational approximation.\n",
    "        zeta_standard = rng.normal(size=n_draw)\n",
    "        sigma = np.exp(lnsigma)\n",
    "        zeta = zeta_standard*sigma + mu\n",
    "        \n",
    "        # Compute the derivs.\n",
    "        dkl_dmu = -np.mean(dlogp(zeta))\n",
    "        dkl_dlnsigma = -np.mean(dlogp(zeta) * zeta_standard * sigma) - 1\n",
    "        \n",
    "        # Now do SGD with the KL divergence.\n",
    "        lnsigma -= dkl_dlnsigma * eta\n",
    "        mu -= dkl_dmu * eta\n",
    "        \n",
    "        # Decay the learning rate.\n",
    "        eta *= 1.0 - eta_decay\n",
    "        \n",
    "        if not (i % (n_iter // 25)):\n",
    "            print(\"iter, mu, lnsigma: % 7d|% 10.4e|% 10.4e\" % \n",
    "                  (i, mu, lnsigma))\n",
    "        \n",
    "    return np.array([mu, lnsigma])\n",
    "\n",
    "rng = np.random.RandomState(seed=5678)\n",
    "phi_hat = kl_vi_with_sgd(dlogp_easy_dzeta, 0.0, 0.0, rng)"
   ]
  },
  {
   "cell_type": "code",
   "execution_count": null,
   "metadata": {},
   "outputs": [],
   "source": [
    "logit_theta = np.linspace(0.0, 14.0, 100000)\n",
    "plogit_theta = np.exp(logp_easy(logit_theta))\n",
    "qlogit_theta = np.exp(logq(logit_theta, phi_hat[0], phi_hat[1]))\n",
    "\n",
    "plt.plot(logit_theta, plogit_theta, label='p(logit(theta))')\n",
    "plt.plot(logit_theta, qlogit_theta, label='q(logit(theta))')\n",
    "plt.xlabel('logit(theta)')\n",
    "plt.ylabel('PDF')\n",
    "plt.legend();"
   ]
  },
  {
   "attachments": {},
   "cell_type": "markdown",
   "metadata": {},
   "source": [
    "But we certainly don't want to have to compute derivatives all by hand!"
   ]
  },
  {
   "attachments": {},
   "cell_type": "markdown",
   "metadata": {},
   "source": [
    "## Variational Inference in PyMC\n",
    "\n",
    "PyTensor, PyTorch, and Tensorflow are all computational backends to compute derivatives symbolically so we don't have to hand code anything. PyMC uses PyTensor which is what we will be working in.\n",
    "\n",
    "\n",
    "\n",
    "\n"
   ]
  },
  {
   "cell_type": "code",
   "execution_count": null,
   "metadata": {},
   "outputs": [],
   "source": [
    "import pymc as pm\n",
    "import arviz as az\n",
    "import pytensor.tensor as pt\n",
    "\n",
    "size = 50\n",
    "true_intercept = 1\n",
    "true_slope = 2\n",
    "x = np.linspace(0, 1, size)\n",
    "\n",
    "# y = a + b*x\n",
    "true_regression_line = true_intercept + true_slope * x\n",
    "\n",
    "# add noise\n",
    "y = true_regression_line + np.random.normal(scale=.5, size=size)"
   ]
  },
  {
   "attachments": {},
   "cell_type": "markdown",
   "metadata": {},
   "source": [
    "Okay let's plot this:"
   ]
  },
  {
   "cell_type": "code",
   "execution_count": null,
   "metadata": {},
   "outputs": [],
   "source": [
    "fig = plt.figure(figsize=(7, 7))\n",
    "ax = fig.add_subplot(111, xlabel='x', ylabel='y', title='Generated data and underlying model')\n",
    "#plt.plot(x, y,\"bo\", label='sampled data', alpha =0.01)\n",
    "ax.plot(x, y,\"bo\", label='sampled data',alpha =0.5)\n",
    "ax.plot(x, true_regression_line, label='true regression line', lw=2.,color = \"red\")\n",
    "plt.legend(loc=0);"
   ]
  },
  {
   "cell_type": "code",
   "execution_count": null,
   "metadata": {},
   "outputs": [],
   "source": [
    "with pm.Model() as model:\n",
    "    \n",
    "    # Define priors\n",
    "    sigma = pm.HalfCauchy('sigma', beta=10)\n",
    "    intercept = pm.Normal('Intercept', 0, sigma=20)\n",
    "    x_coeff = pm.Normal('x', 0, sigma=20)\n",
    "    \n",
    "    # Define likelihood\n",
    "    likelihood = pm.Normal('y', mu=intercept + x_coeff * x,\n",
    "                        sigma=sigma, observed=y)\n",
    "    \n",
    "    trace = pm.sample(1000, tune=2000) \n"
   ]
  },
  {
   "cell_type": "code",
   "execution_count": null,
   "metadata": {},
   "outputs": [],
   "source": [
    "az.plot_trace(trace);"
   ]
  },
  {
   "cell_type": "code",
   "execution_count": null,
   "metadata": {},
   "outputs": [],
   "source": [
    "with model:\n",
    "    approx = pm.fit(n=20_000)"
   ]
  },
  {
   "cell_type": "code",
   "execution_count": null,
   "metadata": {},
   "outputs": [],
   "source": [
    "approx"
   ]
  },
  {
   "cell_type": "code",
   "execution_count": null,
   "metadata": {},
   "outputs": [],
   "source": [
    "plt.plot(approx.hist[5000:]);"
   ]
  },
  {
   "cell_type": "code",
   "execution_count": null,
   "metadata": {},
   "outputs": [],
   "source": [
    "trace_vi = approx.sample() \n",
    "az.plot_trace(trace_vi);"
   ]
  },
  {
   "attachments": {},
   "cell_type": "markdown",
   "metadata": {},
   "source": [
    "Here, `trace_vi` acts exactly like a trace from mcmc. "
   ]
  },
  {
   "attachments": {},
   "cell_type": "markdown",
   "metadata": {},
   "source": [
    "### Mean field variational inference\n",
    "\n",
    "By default, `fit` employs a mean field assumption regarding the model parameters. This assumes the variational distribution factors independently: \n",
    "\n",
    "$$q(\\theta_1, \\ldots, \\theta_n) = q(\\theta_1) \\cdots q(\\theta_n)$$\n",
    "\n",
    "We can generalize this to use a full-rank covariance matrix for our approximation, which carries an associated tradeoff in performance."
   ]
  },
  {
   "cell_type": "code",
   "execution_count": null,
   "metadata": {},
   "outputs": [],
   "source": [
    "with model:\n",
    "    approx_fr = pm.fit(n=10_000, method='fullrank_advi')"
   ]
  },
  {
   "cell_type": "code",
   "execution_count": null,
   "metadata": {},
   "outputs": [],
   "source": [
    "trace_fullrank = approx_fr.sample() \n",
    "az.plot_trace(trace_fullrank);"
   ]
  },
  {
   "attachments": {},
   "cell_type": "markdown",
   "metadata": {},
   "source": [
    "## Exercise: Drug trial analysis\n",
    "\n",
    "To illustrate how variational inference works in practice, we will use a fictitious example from Kruschke (2012) concerning the evaluation of a clinical trial for drug evaluation. The trial aims to evaluate the efficacy of a \"smart drug\" that is supposed to increase intelligence by comparing IQ scores of individuals in a treatment arm (those receiving the drug) to those in a control arm (those recieving a placebo). There are 47 individuals and 42 individuals in the treatment and control arms, respectively.\n",
    "\n",
    "Construct a model for estimating the effect size of the drug. Fit this model using both MCMC and ADVI, and compare the resulting estimates."
   ]
  },
  {
   "cell_type": "code",
   "execution_count": null,
   "metadata": {},
   "outputs": [],
   "source": [
    "import pandas as pd\n",
    "drug = (101,100,102,104,102,97,105,105,98,101,100,123,105,103,100,95,102,106,\n",
    "        109,102,82,102,100,102,102,101,102,102,103,103,97,97,103,101,97,104,\n",
    "        96,103,124,101,101,100,101,101,104,100,101)\n",
    "placebo = (99,101,100,101,102,100,97,101,104,101,102,102,100,105,88,101,100,\n",
    "           104,100,100,100,101,102,103,97,101,101,100,101,99,101,100,100,\n",
    "           101,100,99,101,100,102,99,100,99)\n",
    "\n",
    "y1 = np.array(drug)\n",
    "y2 = np.array(placebo)\n",
    "y = pd.DataFrame(dict(value=np.r_[y1, y2], group=np.r_[['drug']*len(drug), ['placebo']*len(placebo)]))\n",
    "\n",
    "y.hist('value', by='group');"
   ]
  },
  {
   "cell_type": "code",
   "execution_count": null,
   "metadata": {},
   "outputs": [],
   "source": [
    "# Write answer here"
   ]
  },
  {
   "attachments": {},
   "cell_type": "markdown",
   "metadata": {},
   "source": [
    "## Example: Mixture model\n",
    "\n",
    "Let's look at using VI to estimate a simple, but less straightforward model: a mixture model that features a bimodal posterior distribution. Mixture models can be specified easily in PyMC with the `Mixture` class, that accepts a set of densities and an associated set of weights. "
   ]
  },
  {
   "cell_type": "code",
   "execution_count": null,
   "metadata": {},
   "outputs": [],
   "source": [
    "w = np.array([.2, .8])\n",
    "mu = np.array([-.3, .5])\n",
    "sd = np.array([.1, .1])\n",
    "\n",
    "with pm.Model() as mixture_model:\n",
    "    x = pm.NormalMixture('x', w=w, mu=mu, sigma=sd)\n",
    "    x2 = pm.Deterministic('x2', x ** 2)\n",
    "    sin_x = pm.Deterministic('sin_x', pm.math.sin(x))"
   ]
  },
  {
   "cell_type": "code",
   "execution_count": null,
   "metadata": {},
   "outputs": [],
   "source": [
    "with mixture_model:\n",
    "    mixture_trace = pm.sample(10_000, tune=5000, target_accept=0.9, cores=2, random_seed=(1, 42))"
   ]
  },
  {
   "cell_type": "code",
   "execution_count": null,
   "metadata": {},
   "outputs": [],
   "source": [
    "az.plot_trace(mixture_trace)\n",
    "plt.tight_layout()"
   ]
  },
  {
   "attachments": {},
   "cell_type": "markdown",
   "metadata": {},
   "source": [
    "The NUTS algorithm is easily able to sample from the distribution. Let's try to replicate the analysis with mean-field VI:"
   ]
  },
  {
   "cell_type": "code",
   "execution_count": null,
   "metadata": {},
   "outputs": [],
   "source": [
    "with mixture_model:\n",
    "    mean_field = pm.fit()"
   ]
  },
  {
   "cell_type": "code",
   "execution_count": null,
   "metadata": {},
   "outputs": [],
   "source": [
    "meanfield_trace = mean_field.sample(500)\n",
    "az.plot_trace(meanfield_trace, var_names=['x']);"
   ]
  },
  {
   "attachments": {},
   "cell_type": "markdown",
   "metadata": {},
   "source": [
    "Notice that ADVI has failed to approximate the multimodal distribution, since it uses a Gaussian distribution that has a single mode.\n",
    "\n",
    "## Checking convergence\n",
    "\n",
    "The `fit` function supports the use of \"callbacks\", which are functions that are passed as arguments to other functions, and executed at a specified time within that function. For example, the `CheckParametersConvergence` callback will monitor the model parameter trajectories, and stop the VI algoithm when convergence is achieved."
   ]
  },
  {
   "cell_type": "code",
   "execution_count": null,
   "metadata": {},
   "outputs": [],
   "source": [
    "from pymc.variational.callbacks import CheckParametersConvergence\n",
    "\n",
    "with mixture_model:\n",
    "    mean_field = pm.fit(callbacks=[CheckParametersConvergence()])"
   ]
  },
  {
   "cell_type": "code",
   "execution_count": null,
   "metadata": {},
   "outputs": [],
   "source": [
    "plt.plot(mean_field.hist);"
   ]
  },
  {
   "attachments": {},
   "cell_type": "markdown",
   "metadata": {},
   "source": [
    "It appears that the model did not converge, despite the fact that we ran many iterations. In this case, this is because the mean of the ADVI approximation is close to zero, so taking the relative difference (the default method) is an unstable convergence check.\n",
    "\n",
    "Let's try again, using absolute difference as the criterion:"
   ]
  },
  {
   "cell_type": "code",
   "execution_count": null,
   "metadata": {},
   "outputs": [],
   "source": [
    "with mixture_model:\n",
    "    mean_field = pm.fit(method='advi', callbacks=[pm.callbacks.CheckParametersConvergence(diff='absolute')])"
   ]
  },
  {
   "cell_type": "code",
   "execution_count": null,
   "metadata": {},
   "outputs": [],
   "source": [
    "plt.plot(mean_field.hist);"
   ]
  },
  {
   "attachments": {},
   "cell_type": "markdown",
   "metadata": {},
   "source": [
    "That's much better! We've reached convergence after approximately 5000 iterations."
   ]
  },
  {
   "attachments": {},
   "cell_type": "markdown",
   "metadata": {},
   "source": [
    "## Tracking parameters"
   ]
  },
  {
   "attachments": {},
   "cell_type": "markdown",
   "metadata": {},
   "source": [
    "Another useful callback allows users to track parameters directly during the fitting procedure. To do this we need to use the object-oriented (OO) API, which allows direct access to the approximation before inference is performed."
   ]
  },
  {
   "cell_type": "code",
   "execution_count": null,
   "metadata": {
    "collapsed": true
   },
   "outputs": [],
   "source": [
    "with mixture_model:\n",
    "    advi = pm.ADVI()"
   ]
  },
  {
   "cell_type": "code",
   "execution_count": null,
   "metadata": {},
   "outputs": [],
   "source": [
    "advi.approx"
   ]
  },
  {
   "attachments": {},
   "cell_type": "markdown",
   "metadata": {},
   "source": [
    "Different approximations have different hyperparameters. In mean-field ADVI, we have $\\rho$ and $\\mu$ (inspired by [Bayes by BackProp](https://arxiv.org/abs/1505.05424))."
   ]
  },
  {
   "cell_type": "code",
   "execution_count": null,
   "metadata": {},
   "outputs": [],
   "source": [
    "advi.approx.shared_params"
   ]
  },
  {
   "attachments": {},
   "cell_type": "markdown",
   "metadata": {},
   "source": [
    "There are convenient shortcuts to relevant statistics associated with the approximation. This can be useful, for example, when specifying a mass matrix for NUTS sampling:"
   ]
  },
  {
   "cell_type": "code",
   "execution_count": null,
   "metadata": {},
   "outputs": [],
   "source": [
    "advi.approx.mean.eval(), advi.approx.std.eval()"
   ]
  },
  {
   "attachments": {},
   "cell_type": "markdown",
   "metadata": {},
   "source": [
    "We can roll these statistics into the `Tracker` callback."
   ]
  },
  {
   "cell_type": "code",
   "execution_count": null,
   "metadata": {
    "collapsed": true
   },
   "outputs": [],
   "source": [
    "tracker = pm.callbacks.Tracker(\n",
    "    mean=advi.approx.mean.eval,  # callable that returns mean\n",
    "    std=advi.approx.std.eval  # callable that returns std\n",
    ")"
   ]
  },
  {
   "attachments": {},
   "cell_type": "markdown",
   "metadata": {},
   "source": [
    "Now, calling `advi.fit` will record the mean and standard deviation of the approximation as it runs."
   ]
  },
  {
   "cell_type": "code",
   "execution_count": null,
   "metadata": {},
   "outputs": [],
   "source": [
    "approx = advi.fit(20_000, callbacks=[tracker])"
   ]
  },
  {
   "attachments": {},
   "cell_type": "markdown",
   "metadata": {},
   "source": [
    "We can now plot both the evidence lower bound and parameter traces:"
   ]
  },
  {
   "cell_type": "code",
   "execution_count": null,
   "metadata": {},
   "outputs": [],
   "source": [
    "fig = plt.figure(figsize=(16, 9))\n",
    "mu_ax = fig.add_subplot(221)\n",
    "std_ax = fig.add_subplot(222)\n",
    "hist_ax = fig.add_subplot(212)\n",
    "mu_ax.plot(tracker['mean'])\n",
    "mu_ax.set_title('Mean track')\n",
    "std_ax.plot(tracker['std'])\n",
    "std_ax.set_title('Std track')\n",
    "hist_ax.plot(advi.hist)\n",
    "hist_ax.set_title('Negative ELBO track');"
   ]
  },
  {
   "attachments": {},
   "cell_type": "markdown",
   "metadata": {},
   "source": [
    "Notice that there are convergence issues with the mean, and that lack of convergence does not seem to change the ELBO trajectory significantly. As we are using the OO API, we can run the approximation longer until convergence is achieved."
   ]
  },
  {
   "cell_type": "code",
   "execution_count": null,
   "metadata": {},
   "outputs": [],
   "source": [
    "advi.refine(10_000)"
   ]
  },
  {
   "attachments": {},
   "cell_type": "markdown",
   "metadata": {},
   "source": [
    "Let's take a look:"
   ]
  },
  {
   "cell_type": "code",
   "execution_count": null,
   "metadata": {},
   "outputs": [],
   "source": [
    "fig = plt.figure(figsize=(16, 9))\n",
    "mu_ax = fig.add_subplot(221)\n",
    "std_ax = fig.add_subplot(222)\n",
    "hist_ax = fig.add_subplot(212)\n",
    "mu_ax.plot(tracker['mean'])\n",
    "mu_ax.set_title('Mean track')\n",
    "std_ax.plot(tracker['std'])\n",
    "std_ax.set_title('Std track')\n",
    "hist_ax.plot(advi.hist)\n",
    "hist_ax.set_title('Negative ELBO track');"
   ]
  },
  {
   "attachments": {},
   "cell_type": "markdown",
   "metadata": {},
   "source": [
    "We still see evidence for lack of convergence, as the mean has devolved into a random walk. This could be the result of choosing a poor algorithm for inference. At any rate, it is unstable and can produce very different results even using different random seeds.\n",
    "\n",
    "Let's compare results with the NUTS output:"
   ]
  },
  {
   "cell_type": "code",
   "execution_count": null,
   "metadata": {},
   "outputs": [],
   "source": [
    "import seaborn as sns\n",
    "ax = sns.kdeplot(mixture_trace.posterior['x'].values.ravel(), label='NUTS');\n",
    "sns.kdeplot(approx.sample(10_000).posterior['x'].values.ravel(), label='ADVI');"
   ]
  },
  {
   "attachments": {},
   "cell_type": "markdown",
   "metadata": {},
   "source": [
    "## Stein Variational Gradient Descent (SVGD)\n",
    "\n",
    "SVGD is a general VI algorithm that iteratively shifts a set of particles to match a target posterior. This is done via a form of functional gradient descent that minimizes the KL divergence.\n",
    "\n",
    "1. Sample particles from prior distribution of parameters\n",
    "2. Formulate bijective (i.e. reversible) transformation of particles\n",
    "3. Iteratively apply transformation until convergence\n",
    "\n",
    "SVGD directly minimizes $KL(\\{x_i\\} || p)$ by iteratively moving points $\\{x_i\\}_{i=1}^n$ towards the target p by updates of form:\n",
    "\n",
    "$$x_i^{\\prime} \\leftarrow x_i + \\epsilon\\phi(xi)$$\n",
    "\n",
    "where $\\phi$ is a *perturbation direction* chosen to optimally decrease the KL divergence:\n",
    "\n",
    "$$\\phi = \\text{argmax}_{\\phi}\\left\\{-\\frac{\\partial}{\\partial \\epsilon} KL(q_{[\\epsilon \\phi]} || p)|_{\\epsilon=0}\\right\\}$$\n",
    "\n",
    "where $q_{[\\epsilon \\phi]}$ is the density of $x^{\\prime}$ when the density of $x$ is $q$.\n",
    "\n",
    "The name of the procedure reflects the fadt that this direction is related to the **Stein operator**:\n",
    "\n",
    "$$-\\frac{\\partial}{\\partial \\epsilon} KL(q_{[\\epsilon \\phi]} || p)|_{\\epsilon=0} = E_{x \\sim q}[\\mathcal{T}_p \\phi(x)]$$\n",
    "\n",
    "[SVGD visualization](https://chi-feng.github.io/mcmc-demo/app.html#SVGD,multimodal)"
   ]
  },
  {
   "cell_type": "code",
   "execution_count": null,
   "metadata": {},
   "outputs": [],
   "source": [
    "with mixture_model:\n",
    "    svgd_approx = pm.fit(300, method='svgd', inf_kwargs=dict(n_particles=1000), \n",
    "                         obj_optimizer=pm.sgd(learning_rate=0.01))"
   ]
  },
  {
   "cell_type": "code",
   "execution_count": null,
   "metadata": {},
   "outputs": [],
   "source": [
    "ax = sns.kdeplot(mixture_trace.posterior['x'].values.ravel(), label='NUTS');\n",
    "sns.kdeplot(svgd_approx.sample(2000).posterior['x'].values.squeeze(), label='SVGD');"
   ]
  },
  {
   "attachments": {},
   "cell_type": "markdown",
   "metadata": {},
   "source": [
    "## Minibatches\n",
    "When dealing with large datasets, using minibatch training can drastically speed up and improve approximation performance. Large datasets impose a hefty cost on the computation of gradients. \n",
    "\n",
    "Minibatch gradient descent is a variation of the gradient descent algorithm that divides a large dataset into (much) smaller batches, each of which are used to calculate gradients, model error and updated model coefficients. These \"noisy\" gradients are more robust to the presence of local minima, and avoid having to ever use the entire dataset to calculate a gradient.\n",
    "\n",
    "There is a nice API in PyMC to handle these cases, which is avaliable through the `pm.Minibatch` class. The minibatch is just a highly specialized `TensorVariable`."
   ]
  },
  {
   "attachments": {},
   "cell_type": "markdown",
   "metadata": {},
   "source": [
    "To demonstrate, let's simulate a large quantity of data:"
   ]
  },
  {
   "cell_type": "code",
   "execution_count": null,
   "metadata": {
    "collapsed": true
   },
   "outputs": [],
   "source": [
    "# Raw values\n",
    "data = np.random.rand(400_000, 100) \n",
    "# Scaled values\n",
    "data *= np.random.randint(1, 5, size=(100,))\n",
    "# Shifted values\n",
    "data += np.random.rand(100) * 2   "
   ]
  },
  {
   "attachments": {},
   "cell_type": "markdown",
   "metadata": {},
   "source": [
    "For comparison, let's fit a model without minibatch processing:"
   ]
  },
  {
   "cell_type": "code",
   "execution_count": null,
   "metadata": {
    "collapsed": true
   },
   "outputs": [],
   "source": [
    "with pm.Model() as model:\n",
    "    mu = pm.Flat('mu', shape=(100,))\n",
    "    sd = pm.HalfNormal('sd', shape=(100,))\n",
    "    like = pm.Normal('like', mu, sd, observed=data)"
   ]
  },
  {
   "attachments": {},
   "cell_type": "markdown",
   "metadata": {},
   "source": [
    "Just for fun, let's create a custom special purpose callback to halt slow optimization. Here we define a callback that causes a hard stop when approximation runs too slowly:"
   ]
  },
  {
   "cell_type": "code",
   "execution_count": null,
   "metadata": {
    "collapsed": true
   },
   "outputs": [],
   "source": [
    "def stop_after_10(approx, loss_history, i):\n",
    "    if (i > 0) and (i % 10) == 0:\n",
    "        raise StopIteration('I was slow, sorry')"
   ]
  },
  {
   "cell_type": "code",
   "execution_count": null,
   "metadata": {},
   "outputs": [],
   "source": [
    "with model:\n",
    "    advifit = pm.fit(callbacks=[stop_after_10])"
   ]
  },
  {
   "attachments": {},
   "cell_type": "markdown",
   "metadata": {},
   "source": [
    "Inference is too slow, taking several seconds per iteration; fitting the approximation would have taken hours!\n",
    "\n",
    "Instead, let's use minibatches. At every iteration, we will draw 500 random values. Since PyMC variables are just PyTensor variables, we can swap data in and out of the likelihood at each iteration. However, we need to provide the total size of the dataset in order for the model to be properly specified."
   ]
  },
  {
   "cell_type": "code",
   "execution_count": null,
   "metadata": {
    "collapsed": true
   },
   "outputs": [],
   "source": [
    "X = pm.Minibatch(data, batch_size=500)\n",
    "\n",
    "with pm.Model() as model:\n",
    "    \n",
    "    mu = pm.Normal('mu', mu=0., sigma=1.e5, shape=(100,))\n",
    "    sd = pm.HalfNormal('sd', shape=(100,))\n",
    "    likelihood = pm.Normal('likelihood', mu, sd, observed=X, total_size=data.size)"
   ]
  },
  {
   "cell_type": "code",
   "execution_count": null,
   "metadata": {},
   "outputs": [],
   "source": [
    "with model:\n",
    "    advifit = pm.fit()"
   ]
  },
  {
   "cell_type": "code",
   "execution_count": null,
   "metadata": {},
   "outputs": [],
   "source": [
    "plt.plot(advifit.hist);"
   ]
  },
  {
   "cell_type": "code",
   "execution_count": null,
   "metadata": {},
   "outputs": [],
   "source": [
    "dir(pm.distributions.timeseries)"
   ]
  },
  {
   "attachments": {},
   "cell_type": "markdown",
   "metadata": {},
   "source": [
    "Minibatch inference is dramatically faster. Multidimensional minibatches may be needed for some corner cases where you do matrix factorization or model is very wide."
   ]
  },
  {
   "attachments": {},
   "cell_type": "markdown",
   "metadata": {},
   "source": [
    "## Exercise: Minibatch ADVI\n",
    "\n",
    "Try using minibatch ADVI on the regression model from the beginning of this seciton: first, simulate a dataset of size n=50,000 then set up the model to fit to this data using minibatch."
   ]
  },
  {
   "cell_type": "code",
   "execution_count": null,
   "metadata": {},
   "outputs": [],
   "source": [
    "# Write your answer here"
   ]
  },
  {
   "attachments": {},
   "cell_type": "markdown",
   "metadata": {},
   "source": [
    "---\n",
    "## References: \n",
    "\n",
    "1. [Variational Inference from the ground up](https://www.civisanalytics.com/blog/variational-inference-ground/)\n",
    "2. [Automatic Differentiation Variational Inference. Kucukelbir, A., Tran D., Ranganath, R., Gelman, A., and Blei, D. M. (2016)](https://arxiv.org/abs/1603.00788)\n",
    "2. [Variational Inference: A Review for Statisticians, David M. Blei, Alp Kucukelbir, Jon D. McAuliffe (2016)](https://arxiv.org/abs/1601.00670)"
   ]
  }
 ],
 "metadata": {
  "kernelspec": {
   "display_name": "Python 3",
   "language": "python",
   "name": "python3"
  },
  "language_info": {
   "codemirror_mode": {
    "name": "ipython",
    "version": 3
   },
   "file_extension": ".py",
   "mimetype": "text/x-python",
   "name": "python",
   "nbconvert_exporter": "python",
   "pygments_lexer": "ipython3",
   "version": "3.11.6"
  }
 },
 "nbformat": 4,
 "nbformat_minor": 2
}
